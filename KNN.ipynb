{
  "nbformat": 4,
  "nbformat_minor": 0,
  "metadata": {
    "colab": {
      "provenance": [],
      "authorship_tag": "ABX9TyP0Rett4L3KowBX5gHlESFr",
      "include_colab_link": true
    },
    "kernelspec": {
      "name": "python3",
      "display_name": "Python 3"
    },
    "language_info": {
      "name": "python"
    }
  },
  "cells": [
    {
      "cell_type": "markdown",
      "metadata": {
        "id": "view-in-github",
        "colab_type": "text"
      },
      "source": [
        "<a href=\"https://colab.research.google.com/github/nikitha-moorthi/Comparison-of-ML-Classification-Algorithms/blob/main/KNN.ipynb\" target=\"_parent\"><img src=\"https://colab.research.google.com/assets/colab-badge.svg\" alt=\"Open In Colab\"/></a>"
      ]
    },
    {
      "cell_type": "code",
      "source": [
        "from google.colab import drive\n",
        "drive.mount('/content/drive')"
      ],
      "metadata": {
        "id": "Fn_W4-H6NThB",
        "colab": {
          "base_uri": "https://localhost:8080/"
        },
        "outputId": "93db1166-3512-412f-d1eb-d3b6d229cb91"
      },
      "execution_count": null,
      "outputs": [
        {
          "output_type": "stream",
          "name": "stdout",
          "text": [
            "Mounted at /content/drive\n"
          ]
        }
      ]
    },
    {
      "metadata": {
        "id": "aGH5vImXvQ6Y",
        "outputId": "3f70ea5f-8c1a-4062-d836-622607c17c6b",
        "colab": {
          "base_uri": "https://localhost:8080/"
        }
      },
      "cell_type": "code",
      "source": [
        "!ls /content/drive/MyDrive/phase2/tot_dataset/tot_dataset"
      ],
      "execution_count": null,
      "outputs": [
        {
          "output_type": "stream",
          "name": "stdout",
          "text": [
            "test  train\n"
          ]
        }
      ]
    },
    {
      "metadata": {
        "id": "OH__VfWsR3ue"
      },
      "cell_type": "code",
      "source": [
        "#Class to load the dataset images from drive\n",
        "import os\n",
        "import cv2\n",
        "import numpy as np\n",
        "\n",
        "\n",
        "class SimpleDatasetLoader:\n",
        "    # Method: Constructor\n",
        "    def __init__(self, preprocessors=None):\n",
        "        \"\"\"\n",
        "        :param preprocessors: List of image preprocessors\n",
        "        \"\"\"\n",
        "        self.preprocessors = preprocessors\n",
        "\n",
        "        if self.preprocessors is None:\n",
        "            self.preprocessors = []\n",
        "\n",
        "    # Method: Used to load a list of images for pre-processing\n",
        "    def load(self, image_paths, verbose=-1):\n",
        "        \"\"\"\n",
        "        :param image_paths: List of image paths\n",
        "        :param verbose: Parameter for printing information to console\n",
        "        :return: Tuple of data and labels\n",
        "        \"\"\"\n",
        "        data, labels = [], []\n",
        "\n",
        "        for i, image_path in enumerate(image_paths):\n",
        "            image = cv2.imread(image_path)\n",
        "            label = image_path.split(os.path.sep)[-2]\n",
        "\n",
        "            if self.preprocessors is not None:\n",
        "                for p in self.preprocessors:\n",
        "                    image = p.preprocess(image)\n",
        "\n",
        "            data.append(image)\n",
        "            labels.append(label)\n",
        "\n",
        "            if verbose > 0 and i > 0 and (i+1) % verbose == 0:\n",
        "                print('[INFO]: Processed {}/{}'.format(i+1, len(image_paths)))\n",
        "\n",
        "        return (np.array(data), np.array(labels))"
      ],
      "execution_count": null,
      "outputs": []
    },
    {
      "metadata": {
        "id": "3b8mRpIbR9Tf"
      },
      "cell_type": "code",
      "source": [
        "#Class Preprocessror \n",
        "class SimplePreprocessor:\n",
        "    # Method: Constructor\n",
        "    def __init__(self, width, height, interpolation=cv2.INTER_AREA):\n",
        "        \"\"\"\n",
        "        :param width: Image width\n",
        "        :param height: Image height\n",
        "        :param interpolation: Interpolation algorithm\n",
        "        \"\"\"\n",
        "        self.width = width\n",
        "        self.height = height\n",
        "        self.interpolation = interpolation\n",
        "\n",
        "    # Method: Used to resize the image to a fixed size (ignoring the aspect ratio)\n",
        "    def preprocess(self, image):\n",
        "        \"\"\"\n",
        "        :param image: Image\n",
        "        :return: Re-sized image\n",
        "        \"\"\"\n",
        "        return cv2.resize(image, (self.width, self.height), interpolation=self.interpolation)"
      ],
      "execution_count": null,
      "outputs": []
    },
    {
      "metadata": {
        "id": "fcCvmbWGSDhk",
        "outputId": "086494f7-8cef-423c-82b4-192da832e2da",
        "colab": {
          "base_uri": "https://localhost:8080/"
        }
      },
      "cell_type": "code",
      "source": [
        "\n",
        "from imutils import paths\n",
        "from sklearn.neighbors import KNeighborsClassifier\n",
        "from sklearn.preprocessing import LabelEncoder\n",
        "from sklearn.model_selection import train_test_split\n",
        "from sklearn.metrics import classification_report\n",
        "from __main__ import SimplePreprocessor\n",
        "from __main__ import SimpleDatasetLoader\n",
        "\n",
        "\n",
        "\n",
        "\n",
        "# Get list of image paths\n",
        "image_paths = list(paths.list_images(\"/content/drive/MyDrive/phase2/tot_dataset/tot_dataset/train\"))\n",
        "\n",
        "# Initialize SimplePreprocessor and SimpleDatasetLoader and load data and labels\n",
        "print('[INFO]: Images loading....')\n",
        "sp = SimplePreprocessor(32, 32)\n",
        "sdl = SimpleDatasetLoader(preprocessors=[sp])\n",
        "(data, labels) = sdl.load(image_paths, verbose=500)\n",
        "\n",
        "# Reshape from (4676, 32, 32, 3) to (4676, 32*32*3=3072)\n",
        "data = data.reshape((data.shape[0], 3072))\n",
        "\n",
        "# Print information about memory consumption\n",
        "print('[INFO]: Features Matrix: {:.1f}MB'.format(float(data.nbytes / 1024*1000.0)))\n",
        "\n",
        "# Encode labels as integers\n",
        "le = LabelEncoder()\n",
        "labels = le.fit_transform(labels)\n",
        "\n",
        "# Split data into training (75%) and testing (25%) data\n",
        "(train_x, test_x, train_y, test_y) = train_test_split(data, labels, test_size=0.25, random_state=42)\n",
        "\n",
        "# Train and evaluate the k-NN classifier on the raw pixel intensities\n",
        "print('[INFO]: Classification starting....')\n",
        "model = KNeighborsClassifier(n_neighbors=7,\n",
        "                             n_jobs=1)\n",
        "model.fit(train_x, train_y)\n",
        "print(classification_report(test_y, model.predict(test_x),\n",
        "                            target_names=le.classes_))"
      ],
      "execution_count": null,
      "outputs": [
        {
          "output_type": "stream",
          "name": "stdout",
          "text": [
            "[INFO]: Images loading....\n",
            "[INFO]: Processed 500/4676\n",
            "[INFO]: Processed 1000/4676\n",
            "[INFO]: Processed 1500/4676\n",
            "[INFO]: Processed 2000/4676\n",
            "[INFO]: Processed 2500/4676\n",
            "[INFO]: Processed 3000/4676\n",
            "[INFO]: Processed 3500/4676\n",
            "[INFO]: Processed 4000/4676\n",
            "[INFO]: Processed 4500/4676\n",
            "[INFO]: Features Matrix: 14028000.0MB\n",
            "[INFO]: Classification starting....\n",
            "                           precision    recall  f1-score   support\n",
            "\n",
            "       burn_through_train       0.99      1.00      1.00       187\n",
            "      contamination_train       1.00      0.95      0.97       183\n",
            "          good_weld_train       0.96      0.99      0.97       236\n",
            "     lack_of_fusion_train       1.00      0.99      1.00       188\n",
            "lack_of_penetration_train       0.97      1.00      0.98       171\n",
            "       misalignment_train       0.99      0.98      0.98       204\n",
            "\n",
            "                 accuracy                           0.98      1169\n",
            "                macro avg       0.98      0.98      0.98      1169\n",
            "             weighted avg       0.98      0.98      0.98      1169\n",
            "\n"
          ]
        }
      ]
    },
    {
      "cell_type": "code",
      "source": [
        "from sklearn.metrics import accuracy_score,confusion_matrix,classification_report\n",
        "pred_y = model.predict(test_x)\n",
        "a = confusion_matrix(pred_y,test_y)\n",
        "print(a)"
      ],
      "metadata": {
        "colab": {
          "base_uri": "https://localhost:8080/"
        },
        "id": "DPRXj-1MrA3o",
        "outputId": "841a50e6-d5f0-4939-d296-49348db9afb8"
      },
      "execution_count": null,
      "outputs": [
        {
          "output_type": "stream",
          "name": "stdout",
          "text": [
            "[[187   0   0   1   0   0]\n",
            " [  0 173   0   0   0   0]\n",
            " [  0   8 233   0   0   2]\n",
            " [  0   0   0 187   0   0]\n",
            " [  0   2   1   0 171   3]\n",
            " [  0   0   2   0   0 199]]\n"
          ]
        }
      ]
    },
    {
      "cell_type": "code",
      "source": [
        "depth= []\n",
        "comp = []\n",
        "sc = []\n",
        "for i in range(len(a)):\n",
        "    for j in range(len(a[i])):\n",
        "      depth.append(i)\n",
        "      comp.append(j)\n",
        "      sc.append(a[j][i])\n",
        "    "
      ],
      "metadata": {
        "id": "8BL_VbobsRXl"
      },
      "execution_count": null,
      "outputs": []
    },
    {
      "cell_type": "code",
      "source": [
        "import seaborn as sns\n",
        "import pandas as pd\n",
        "from matplotlib import pyplot as plt\n",
        "df_d = pd.DataFrame()\n",
        "df_d['True_Label']=depth\n",
        "df_d['Predicted_Label']=comp\n",
        "df_d['Scores']= sc\n",
        "data_pivoted = df_d.pivot( \"Predicted_Label\",\"True_Label\", \"Scores\")\n",
        "ax = sns.heatmap(data_pivoted,annot=True,fmt=\"d\")\n",
        "plt.show()"
      ],
      "metadata": {
        "colab": {
          "base_uri": "https://localhost:8080/",
          "height": 280
        },
        "id": "iTdM9UEVr-RP",
        "outputId": "45abe858-3a59-4b44-a480-d150ff975b23"
      },
      "execution_count": null,
      "outputs": [
        {
          "output_type": "display_data",
          "data": {
            "text/plain": [
              "<Figure size 432x288 with 2 Axes>"
            ],
            "image/png": "[encoded data removed]"
          },
          "metadata": {
            "needs_background": "light"
          }
        }
      ]
    },
    {
      "metadata": {
        "id": "mbjd3lACpnSo",
        "outputId": "23bbfd25-bd1f-4610-e117-96f3be596708",
        "colab": {
          "base_uri": "https://localhost:8080/"
        }
      },
      "cell_type": "code",
      "source": [
        "import sklearn\n",
        "from sklearn.metrics import accuracy_score\n",
        "from sklearn.model_selection import GridSearchCV\n",
        "import numpy as np \n",
        "\n",
        "model = KNeighborsClassifier(n_neighbors=7,n_jobs=1)\n",
        "model.fit(train_x, train_y)\n",
        "\n",
        "accuracy = accuracy_score(model.predict(test_x), test_y)\n",
        "print(accuracy)\n",
        "n_neighbors = np.array([7,8,9,10,12,15,20])\n",
        "param_grid = dict(n_neighbors=n_neighbors)\n",
        "grid = GridSearchCV(estimator=model, param_grid=param_grid)\n",
        "grid.fit(train_x, train_y)\n",
        "print(grid.best_score_)\n",
        "print(grid.best_estimator_.n_neighbors)"
      ],
      "execution_count": null,
      "outputs": [
        {
          "output_type": "stream",
          "name": "stdout",
          "text": [
            "0.9837467921300257\n",
            "0.975763154793112\n",
            "7\n"
          ]
        }
      ]
    },
    {
      "metadata": {
        "id": "jrUCePZnzYoZ",
        "outputId": "81765e16-1628-4bf0-9fda-6c695d2c3db8",
        "colab": {
          "base_uri": "https://localhost:8080/"
        }
      },
      "cell_type": "code",
      "source": [
        "import matplotlib.pyplot as plt\n",
        "print(grid.cv_results_)\n",
        "print(grid.param_grid)\n",
        "print(grid.best_score_)\n",
        "print(grid.scorer_)\n"
      ],
      "execution_count": null,
      "outputs": [
        {
          "output_type": "stream",
          "name": "stdout",
          "text": [
            "{'mean_fit_time': array([0.00394545, 0.00411062, 0.0040658 , 0.00406947, 0.00404563,\n",
            "       0.00427947, 0.00427799]), 'std_fit_time': array([2.07654869e-04, 3.97693053e-05, 2.75574751e-05, 5.29537486e-05,\n",
            "       4.20660109e-05, 4.14757077e-04, 3.74212293e-04]), 'mean_score_time': array([0.48049498, 0.47873316, 0.47674441, 0.48107424, 0.46994224,\n",
            "       0.47273974, 0.47580967]), 'std_score_time': array([0.01099441, 0.01126974, 0.01433217, 0.01745321, 0.01052137,\n",
            "       0.00814205, 0.00695521]), 'param_n_neighbors': masked_array(data=[7, 8, 9, 10, 12, 15, 20],\n",
            "             mask=[False, False, False, False, False, False, False],\n",
            "       fill_value='?',\n",
            "            dtype=object), 'params': [{'n_neighbors': 7}, {'n_neighbors': 8}, {'n_neighbors': 9}, {'n_neighbors': 10}, {'n_neighbors': 12}, {'n_neighbors': 15}, {'n_neighbors': 20}], 'split0_test_score': array([0.97293447, 0.97150997, 0.96581197, 0.96296296, 0.96581197,\n",
            "       0.95726496, 0.95299145]), 'split1_test_score': array([0.97720798, 0.97578348, 0.97435897, 0.97435897, 0.96581197,\n",
            "       0.95868946, 0.94729345]), 'split2_test_score': array([0.96718973, 0.96718973, 0.96433666, 0.96148359, 0.96148359,\n",
            "       0.95435093, 0.95007133]), 'split3_test_score': array([0.9743224 , 0.97289586, 0.96718973, 0.96433666, 0.95863053,\n",
            "       0.96148359, 0.95007133]), 'split4_test_score': array([0.9871612 , 0.98573466, 0.978602  , 0.9743224 , 0.97289586,\n",
            "       0.96718973, 0.96291013]), 'mean_test_score': array([0.97576315, 0.97462274, 0.97005987, 0.96749292, 0.96492678,\n",
            "       0.95979573, 0.95266754]), 'std_test_score': array([0.00656633, 0.00620876, 0.00548612, 0.00566355, 0.00482849,\n",
            "       0.00435418, 0.00542913]), 'rank_test_score': array([1, 2, 3, 4, 5, 6, 7], dtype=int32)}\n",
            "{'n_neighbors': array([ 7,  8,  9, 10, 12, 15, 20])}\n",
            "0.975763154793112\n",
            "<function _passthrough_scorer at 0x7efc657b3d40>\n"
          ]
        }
      ]
    },
    {
      "cell_type": "code",
      "source": [
        "import numpy as np\n",
        "import matplotlib.pyplot as plt\n",
        "\n",
        "plt.rcParams[\"figure.figsize\"] = [7.50, 3.50]\n",
        "plt.rcParams[\"figure.autolayout\"] = True\n",
        "\n",
        "x = np.array([0.00394545, 0.00411062, 0.0040658 , 0.00406947, 0.00404563,0.00427947, 0.00427799])\n",
        "y = np.array([7,8,9,10,12,15,20])\n",
        "\n",
        "plt.title(\"Mean fit time\")\n",
        "plt.plot(x, y, color=\"red\")\n",
        "plt.xlabel('Time'),plt.ylabel('K-value')\n",
        "\n",
        "plt.show()"
      ],
      "metadata": {
        "colab": {
          "base_uri": "https://localhost:8080/",
          "height": 261
        },
        "id": "bkTfFCUSe8S3",
        "outputId": "f5c59c02-6c0a-454e-e900-7f987737c472"
      },
      "execution_count": null,
      "outputs": [
        {
          "output_type": "display_data",
          "data": {
            "text/plain": [
              "<Figure size 540x252 with 1 Axes>"
            ],
            "image/png": "[encoded data removed]"
          },
          "metadata": {
            "needs_background": "light"
          }
        }
      ]
    }
  ]
}