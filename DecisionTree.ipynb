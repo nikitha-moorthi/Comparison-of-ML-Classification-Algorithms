{
  "nbformat": 4,
  "nbformat_minor": 0,
  "metadata": {
    "colab": {
      "provenance": [],
      "authorship_tag": "ABX9TyPHKWrDNPMaOdOt3XrSBGFx",
      "include_colab_link": true
    },
    "kernelspec": {
      "name": "python3",
      "display_name": "Python 3"
    },
    "language_info": {
      "name": "python"
    }
  },
  "cells": [
    {
      "cell_type": "markdown",
      "metadata": {
        "id": "view-in-github",
        "colab_type": "text"
      },
      "source": [
        "<a href=\"https://colab.research.google.com/github/nikitha-moorthi/Comparison-of-ML-Classification-Algorithms/blob/main/DecisionTree.ipynb\" target=\"_parent\"><img src=\"https://colab.research.google.com/assets/colab-badge.svg\" alt=\"Open In Colab\"/></a>"
      ]
    },
    {
      "cell_type": "code",
      "execution_count": null,
      "metadata": {
        "colab": {
          "base_uri": "https://localhost:8080/"
        },
        "id": "5DtDcSEhvqZf",
        "outputId": "954dd01a-c147-493a-c74f-36c95613cd07"
      },
      "outputs": [
        {
          "output_type": "stream",
          "name": "stdout",
          "text": [
            "Mounted at /content/drive\n"
          ]
        }
      ],
      "source": [
        "from google.colab import drive\n",
        "drive.mount('/content/drive')"
      ]
    },
    {
      "cell_type": "code",
      "source": [
        "!ls /content/drive/MyDrive/phase2/tot_dataset/tot_dataset"
      ],
      "metadata": {
        "colab": {
          "base_uri": "https://localhost:8080/"
        },
        "id": "KqkqfVnbv70h",
        "outputId": "9db86b23-8d07-42d0-9970-b25e1167d877"
      },
      "execution_count": null,
      "outputs": [
        {
          "output_type": "stream",
          "name": "stdout",
          "text": [
            "test  train\n"
          ]
        }
      ]
    },
    {
      "metadata": {
        "id": "OH__VfWsR3ue"
      },
      "cell_type": "code",
      "source": [
        "#Class to load the dataset images from drivce\n",
        "import os\n",
        "import cv2\n",
        "import numpy as np\n",
        "\n",
        "\n",
        "class SimpleDatasetLoader:\n",
        "    # Method: Constructor\n",
        "    def __init__(self, preprocessors=None):\n",
        "        \"\"\"\n",
        "        :param preprocessors: List of image preprocessors\n",
        "        \"\"\"\n",
        "        self.preprocessors = preprocessors\n",
        "\n",
        "        if self.preprocessors is None:\n",
        "            self.preprocessors = []\n",
        "\n",
        "    # Method: Used to load a list of images for pre-processing\n",
        "    def load(self, image_paths, verbose=-1):\n",
        "        \"\"\"\n",
        "        :param image_paths: List of image paths\n",
        "        :param verbose: Parameter for printing information to console\n",
        "        :return: Tuple of data and labels\n",
        "        \"\"\"\n",
        "        data, labels = [], []\n",
        "\n",
        "        for i, image_path in enumerate(image_paths):\n",
        "            image = cv2.imread(image_path)\n",
        "            label = image_path.split(os.path.sep)[-2]\n",
        "\n",
        "            if self.preprocessors is not None:\n",
        "                for p in self.preprocessors:\n",
        "                    image = p.preprocess(image)\n",
        "\n",
        "            data.append(image)\n",
        "            labels.append(label)\n",
        "\n",
        "            if verbose > 0 and i > 0 and (i+1) % verbose == 0:\n",
        "                print('[INFO]: Processed {}/{}'.format(i+1, len(image_paths)))\n",
        "\n",
        "        return (np.array(data), np.array(labels))"
      ],
      "execution_count": null,
      "outputs": []
    },
    {
      "metadata": {
        "id": "3b8mRpIbR9Tf"
      },
      "cell_type": "code",
      "source": [
        "#Class Preprocessror \n",
        "class SimplePreprocessor:\n",
        "    # Method: Constructor\n",
        "    def __init__(self, width, height, interpolation=cv2.INTER_AREA):\n",
        "        \"\"\"\n",
        "        :param width: Image width\n",
        "        :param height: Image height\n",
        "        :param interpolation: Interpolation algorithm\n",
        "        \"\"\"\n",
        "        self.width = width\n",
        "        self.height = height\n",
        "        self.interpolation = interpolation\n",
        "\n",
        "    # Method: Used to resize the image to a fixed size (ignoring the aspect ratio)\n",
        "    def preprocess(self, image):\n",
        "        \"\"\"\n",
        "        :param image: Image\n",
        "        :return: Re-sized image\n",
        "        \"\"\"\n",
        "        return cv2.resize(image, (self.width, self.height), interpolation=self.interpolation)"
      ],
      "execution_count": null,
      "outputs": []
    },
    {
      "cell_type": "code",
      "execution_count": null,
      "metadata": {
        "colab": {
          "base_uri": "https://localhost:8080/"
        },
        "outputId": "f9f0c04a-f0c9-4b1b-ff7b-36702666e3a9",
        "id": "I3mFOfHdnUEu"
      },
      "outputs": [
        {
          "output_type": "stream",
          "name": "stdout",
          "text": [
            "[INFO]: Images loading....\n",
            "[INFO]: Processed 500/4676\n",
            "[INFO]: Processed 1000/4676\n",
            "[INFO]: Processed 1500/4676\n",
            "[INFO]: Processed 2000/4676\n",
            "[INFO]: Processed 2500/4676\n",
            "[INFO]: Processed 3000/4676\n",
            "[INFO]: Processed 3500/4676\n",
            "[INFO]: Processed 4000/4676\n",
            "[INFO]: Processed 4500/4676\n",
            "[INFO]: Features Matrix: 14028000.0MB\n",
            "[INFO]: Classification starting....\n"
          ]
        },
        {
          "output_type": "execute_result",
          "data": {
            "text/plain": [
              "array([5, 2, 3, ..., 1, 1, 1])"
            ]
          },
          "metadata": {},
          "execution_count": 6
        }
      ],
      "source": [
        "from imutils import paths\n",
        "from sklearn.tree import DecisionTreeClassifier\n",
        "from sklearn.preprocessing import LabelEncoder\n",
        "from sklearn.model_selection import train_test_split\n",
        "from sklearn.metrics import classification_report\n",
        "from __main__ import SimplePreprocessor\n",
        "from __main__ import SimpleDatasetLoader\n",
        "\n",
        "\n",
        "\n",
        "\n",
        "# Get list of image paths\n",
        "image_paths = list(paths.list_images(\"/content/drive/MyDrive/phase2/tot_dataset/tot_dataset/train\"))\n",
        "\n",
        "# Initialize SimplePreprocessor and SimpleDatasetLoader and load data and labels\n",
        "print('[INFO]: Images loading....')\n",
        "sp = SimplePreprocessor(32, 32)\n",
        "sdl = SimpleDatasetLoader(preprocessors=[sp])\n",
        "(data, labels) = sdl.load(image_paths, verbose=500)\n",
        "\n",
        "# Reshape from (4676, 32, 32, 3) to (4676, 32*32*3=3072)\n",
        "data = data.reshape((data.shape[0], 3072))\n",
        "\n",
        "# Print information about memory consumption\n",
        "print('[INFO]: Features Matrix: {:.1f}MB'.format(float(data.nbytes / 1024*1000.0)))\n",
        "\n",
        "# Encode labels as integers\n",
        "le = LabelEncoder()\n",
        "labels = le.fit_transform(labels)\n",
        "\n",
        "# Split data into training (75%) and testing (25%) data\n",
        "(x_train, x_test,y_train, y_test) = train_test_split(data, labels, test_size=0.25, random_state=42)\n",
        "# Train and evaluate the DTC classifier on the raw pixel intensities\n",
        "print('[INFO]: Classification starting....')\n",
        "model = DecisionTreeClassifier()\n",
        "a=model.fit(x_train, y_train)\n",
        "#print(classification_report(test_y, model.predict(test_x),target_names=le.classes_))\n",
        "y_pred_dtc=model.predict(x_test)\n",
        "y_pred_dtc"
      ]
    },
    {
      "cell_type": "code",
      "execution_count": null,
      "metadata": {
        "colab": {
          "base_uri": "https://localhost:8080/"
        },
        "id": "uiBpjxPtkric",
        "outputId": "087362d4-1df5-471a-845e-caeabdb61a2c"
      },
      "outputs": [
        {
          "output_type": "stream",
          "name": "stdout",
          "text": [
            "              precision    recall  f1-score   support\n",
            "\n",
            "           0       0.96      0.99      0.98       180\n",
            "           1       0.90      0.94      0.92       176\n",
            "           2       0.93      0.91      0.92       242\n",
            "           3       0.97      0.98      0.98       186\n",
            "           4       0.99      0.94      0.97       179\n",
            "           5       0.96      0.95      0.96       206\n",
            "\n",
            "    accuracy                           0.95      1169\n",
            "   macro avg       0.95      0.95      0.95      1169\n",
            "weighted avg       0.95      0.95      0.95      1169\n",
            "\n"
          ]
        }
      ],
      "source": [
        "from sklearn.metrics import accuracy_score,confusion_matrix,classification_report\n",
        "accuracy_score(y_pred_dtc,y_test)\n",
        "print(classification_report(y_pred_dtc,y_test))"
      ]
    },
    {
      "cell_type": "code",
      "execution_count": null,
      "metadata": {
        "colab": {
          "base_uri": "https://localhost:8080/"
        },
        "id": "EsPJSixLykY_",
        "outputId": "3e89975c-b1eb-4f86-973e-b45c8fb3148f"
      },
      "outputs": [
        {
          "output_type": "stream",
          "name": "stdout",
          "text": [
            "[[179   1   0   0   0   0]\n",
            " [  1 165   7   2   0   1]\n",
            " [  2  12 220   3   0   5]\n",
            " [  1   1   0 183   1   0]\n",
            " [  3   2   3   0 169   2]\n",
            " [  1   2   6   0   1 196]]\n"
          ]
        }
      ],
      "source": [
        "from sklearn.metrics import accuracy_score,confusion_matrix,classification_report\n",
        "#pred_y = model.predict(test_x)\n",
        "b = confusion_matrix(y_pred_dtc,y_test)\n",
        "print(b)"
      ]
    },
    {
      "cell_type": "code",
      "execution_count": null,
      "metadata": {
        "colab": {
          "base_uri": "https://localhost:8080/",
          "height": 280
        },
        "id": "zP5dIv_gzMWq",
        "outputId": "3c9b0664-b6f2-46db-d26c-403bf5cf3c44"
      },
      "outputs": [
        {
          "output_type": "display_data",
          "data": {
            "text/plain": [
              "<Figure size 432x288 with 2 Axes>"
            ],
            "image/png": "[encoded data removed]"
          },
          "metadata": {
            "needs_background": "light"
          }
        }
      ],
      "source": [
        "depth= []\n",
        "comp = []\n",
        "sc = []\n",
        "for i in range(len(b)):\n",
        "    for j in range(len(b[i])):\n",
        "      depth.append(i)\n",
        "      comp.append(j)\n",
        "      sc.append(b[j][i])\n",
        "import seaborn as sns\n",
        "import pandas as pd\n",
        "from matplotlib import pyplot as plt\n",
        "df_d = pd.DataFrame()\n",
        "df_d['True_Label']=depth\n",
        "df_d['Predicted_Label']=comp\n",
        "df_d['Scores']= sc\n",
        "data_pivoted = df_d.pivot( \"Predicted_Label\",\"True_Label\", \"Scores\")\n",
        "ax = sns.heatmap(data_pivoted,annot=True,fmt=\"d\")\n",
        "plt.show()"
      ]
    }
  ]
}