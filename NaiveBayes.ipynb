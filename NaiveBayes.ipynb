{
  "nbformat": 4,
  "nbformat_minor": 0,
  "metadata": {
    "colab": {
      "provenance": [],
      "authorship_tag": "ABX9TyNlmEumgYblYpxO7qgmOQiR",
      "include_colab_link": true
    },
    "kernelspec": {
      "name": "python3",
      "display_name": "Python 3"
    },
    "language_info": {
      "name": "python"
    }
  },
  "cells": [
    {
      "cell_type": "markdown",
      "metadata": {
        "id": "view-in-github",
        "colab_type": "text"
      },
      "source": [
        "<a href=\"https://colab.research.google.com/github/nikitha-moorthi/Comparison-of-ML-Classification-Algorithms/blob/main/NaiveBayes.ipynb\" target=\"_parent\"><img src=\"https://colab.research.google.com/assets/colab-badge.svg\" alt=\"Open In Colab\"/></a>"
      ]
    },
    {
      "cell_type": "code",
      "source": [
        "from google.colab import drive\n",
        "drive.mount('/content/drive')"
      ],
      "metadata": {
        "id": "Fn_W4-H6NThB",
        "colab": {
          "base_uri": "https://localhost:8080/"
        },
        "outputId": "87752e8f-6961-40c5-c7f5-07375efcd328"
      },
      "execution_count": null,
      "outputs": [
        {
          "output_type": "stream",
          "name": "stdout",
          "text": [
            "Mounted at /content/drive\n"
          ]
        }
      ]
    },
    {
      "metadata": {
        "id": "aGH5vImXvQ6Y",
        "outputId": "2c8f6d5c-f4f4-431c-f12f-f361ae9a5358",
        "colab": {
          "base_uri": "https://localhost:8080/"
        }
      },
      "cell_type": "code",
      "source": [
        "!ls /content/drive/MyDrive/phase2/tot_dataset/tot_dataset"
      ],
      "execution_count": null,
      "outputs": [
        {
          "output_type": "stream",
          "name": "stdout",
          "text": [
            "test  train\n"
          ]
        }
      ]
    },
    {
      "metadata": {
        "id": "OH__VfWsR3ue"
      },
      "cell_type": "code",
      "source": [
        "#Class to load the dataset images from drivce\n",
        "import os\n",
        "import cv2\n",
        "import numpy as np\n",
        "\n",
        "\n",
        "class SimpleDatasetLoader:\n",
        "    # Method: Constructor\n",
        "    def __init__(self, preprocessors=None):\n",
        "        \"\"\"\n",
        "        :param preprocessors: List of image preprocessors\n",
        "        \"\"\"\n",
        "        self.preprocessors = preprocessors\n",
        "\n",
        "        if self.preprocessors is None:\n",
        "            self.preprocessors = []\n",
        "\n",
        "    # Method: Used to load a list of images for pre-processing\n",
        "    def load(self, image_paths, verbose=-1):\n",
        "        \"\"\"\n",
        "        :param image_paths: List of image paths\n",
        "        :param verbose: Parameter for printing information to console\n",
        "        :return: Tuple of data and labels\n",
        "        \"\"\"\n",
        "        data, labels = [], []\n",
        "\n",
        "        for i, image_path in enumerate(image_paths):\n",
        "            image = cv2.imread(image_path)\n",
        "            label = image_path.split(os.path.sep)[-2]\n",
        "\n",
        "            if self.preprocessors is not None:\n",
        "                for p in self.preprocessors:\n",
        "                    image = p.preprocess(image)\n",
        "\n",
        "            data.append(image)\n",
        "            labels.append(label)\n",
        "\n",
        "            if verbose > 0 and i > 0 and (i+1) % verbose == 0:\n",
        "                print('[INFO]: Processed {}/{}'.format(i+1, len(image_paths)))\n",
        "\n",
        "        return (np.array(data), np.array(labels))"
      ],
      "execution_count": null,
      "outputs": []
    },
    {
      "metadata": {
        "id": "3b8mRpIbR9Tf"
      },
      "cell_type": "code",
      "source": [
        "#Class Preprocessror \n",
        "class SimplePreprocessor:\n",
        "    # Method: Constructor\n",
        "    def __init__(self, width, height, interpolation=cv2.INTER_AREA):\n",
        "        \"\"\"\n",
        "        :param width: Image width\n",
        "        :param height: Image height\n",
        "        :param interpolation: Interpolation algorithm\n",
        "        \"\"\"\n",
        "        self.width = width\n",
        "        self.height = height\n",
        "        self.interpolation = interpolation\n",
        "\n",
        "    # Method: Used to resize the image to a fixed size (ignoring the aspect ratio)\n",
        "    def preprocess(self, image):\n",
        "        \"\"\"\n",
        "        :param image: Image\n",
        "        :return: Re-sized image\n",
        "        \"\"\"\n",
        "        return cv2.resize(image, (self.width, self.height), interpolation=self.interpolation)"
      ],
      "execution_count": null,
      "outputs": []
    },
    {
      "cell_type": "code",
      "source": [
        "from imutils import paths\n",
        "from sklearn.naive_bayes import GaussianNB\n",
        "from sklearn.preprocessing import LabelEncoder\n",
        "from sklearn.model_selection import train_test_split\n",
        "from sklearn.metrics import classification_report\n",
        "from __main__ import SimplePreprocessor\n",
        "from __main__ import SimpleDatasetLoader\n",
        "\n",
        "\n",
        "\n",
        "\n",
        "# Get list of image paths\n",
        "image_paths = list(paths.list_images(\"/content/drive/MyDrive/phase2/tot_dataset/tot_dataset/train\"))\n",
        "\n",
        "# Initialize SimplePreprocessor and SimpleDatasetLoader and load data and labels\n",
        "print('[INFO]: Images loading....')\n",
        "sp = SimplePreprocessor(32, 32)\n",
        "sdl = SimpleDatasetLoader(preprocessors=[sp])\n",
        "(data, labels) = sdl.load(image_paths, verbose=500)\n",
        "\n",
        "# Reshape from (4676, 32, 32, 3) to (4676, 32*32*3=3072)\n",
        "data = data.reshape((data.shape[0], 3072))\n",
        "\n",
        "# Print information about memory consumption\n",
        "print('[INFO]: Features Matrix: {:.1f}MB'.format(float(data.nbytes / 1024*1000.0)))\n",
        "\n",
        "# Encode labels as integers\n",
        "le = LabelEncoder()\n",
        "labels = le.fit_transform(labels)\n",
        "\n",
        "# Split data into training (75%) and testing (25%) data\n",
        "(x_train, x_test,y_train, y_test) = train_test_split(data, labels, test_size=0.25, random_state=42)\n",
        "# Train and evaluate the classifier on the raw pixel intensities\n",
        "print('[INFO]: Classification starting....')\n",
        "model=GaussianNB()\n",
        "\n",
        "model.fit(x_train, y_train)\n",
        "y_pred_dtc=model.predict(x_test)\n",
        "y_pred_dtc"
      ],
      "metadata": {
        "colab": {
          "base_uri": "https://localhost:8080/"
        },
        "id": "LKnuBscFNhUB",
        "outputId": "f7229b4c-e4e9-49c1-e986-92512732d8c4"
      },
      "execution_count": null,
      "outputs": [
        {
          "output_type": "stream",
          "name": "stdout",
          "text": [
            "[INFO]: Images loading....\n",
            "[INFO]: Processed 500/4676\n",
            "[INFO]: Processed 1000/4676\n",
            "[INFO]: Processed 1500/4676\n",
            "[INFO]: Processed 2000/4676\n",
            "[INFO]: Processed 2500/4676\n",
            "[INFO]: Processed 3000/4676\n",
            "[INFO]: Processed 3500/4676\n",
            "[INFO]: Processed 4000/4676\n",
            "[INFO]: Processed 4500/4676\n",
            "[INFO]: Features Matrix: 14028000.0MB\n",
            "[INFO]: Classification starting....\n"
          ]
        },
        {
          "output_type": "execute_result",
          "data": {
            "text/plain": [
              "array([4, 4, 3, ..., 1, 2, 1])"
            ]
          },
          "metadata": {},
          "execution_count": 5
        }
      ]
    },
    {
      "cell_type": "code",
      "source": [
        "from sklearn.metrics import accuracy_score,confusion_matrix,classification_report\n",
        "accuracy_score(y_pred_dtc,y_test)\n",
        "print(classification_report(y_pred_dtc,y_test))"
      ],
      "metadata": {
        "colab": {
          "base_uri": "https://localhost:8080/"
        },
        "id": "uiBpjxPtkric",
        "outputId": "31c8d32b-4f55-4028-febf-abbfc61df5d1"
      },
      "execution_count": null,
      "outputs": [
        {
          "output_type": "stream",
          "name": "stdout",
          "text": [
            "              precision    recall  f1-score   support\n",
            "\n",
            "           0       0.97      0.84      0.90       217\n",
            "           1       0.66      0.83      0.73       144\n",
            "           2       0.72      0.82      0.77       207\n",
            "           3       0.98      1.00      0.99       185\n",
            "           4       0.77      0.64      0.70       207\n",
            "           5       0.68      0.67      0.67       209\n",
            "\n",
            "    accuracy                           0.79      1169\n",
            "   macro avg       0.80      0.80      0.79      1169\n",
            "weighted avg       0.80      0.79      0.79      1169\n",
            "\n"
          ]
        }
      ]
    },
    {
      "cell_type": "code",
      "source": [
        "from sklearn.metrics import accuracy_score,confusion_matrix,classification_report\n",
        "#pred_y = model.predict(test_x)\n",
        "a = confusion_matrix(y_pred_dtc,y_test)\n",
        "print(a)"
      ],
      "metadata": {
        "colab": {
          "base_uri": "https://localhost:8080/"
        },
        "id": "EsPJSixLykY_",
        "outputId": "75b63fb9-6012-4c0f-fb66-316e02ecaa29"
      },
      "execution_count": null,
      "outputs": [
        {
          "output_type": "stream",
          "name": "stdout",
          "text": [
            "[[182   4   3   0  11  17]\n",
            " [  1 120  12   3   0   8]\n",
            " [  0  27 170   0   3   7]\n",
            " [  0   0   0 185   0   0]\n",
            " [  0  25  17   0 132  33]\n",
            " [  4   7  34   0  25 139]]\n"
          ]
        }
      ]
    },
    {
      "cell_type": "code",
      "source": [
        "depth= []\n",
        "comp = []\n",
        "sc = []\n",
        "for i in range(len(a)):\n",
        "    for j in range(len(a[i])):\n",
        "      depth.append(i)\n",
        "      comp.append(j)\n",
        "      sc.append(a[j][i])\n",
        "import seaborn as sns\n",
        "import pandas as pd\n",
        "from matplotlib import pyplot as plt\n",
        "df_d = pd.DataFrame()\n",
        "df_d['True_Label']=depth\n",
        "df_d['Predicted_Label']=comp\n",
        "df_d['Scores']= sc\n",
        "data_pivoted = df_d.pivot( \"Predicted_Label\",\"True_Label\", \"Scores\")\n",
        "ax = sns.heatmap(data_pivoted,annot=True,fmt=\"d\")\n",
        "plt.show()"
      ],
      "metadata": {
        "colab": {
          "base_uri": "https://localhost:8080/",
          "height": 280
        },
        "id": "zP5dIv_gzMWq",
        "outputId": "a68658dd-2e4e-4361-da07-123e10ba5afe"
      },
      "execution_count": null,
      "outputs": [
        {
          "output_type": "display_data",
          "data": {
            "text/plain": [
              "<Figure size 432x288 with 2 Axes>"
            ],
            "image/png": "[encoded data removed]"
          },
          "metadata": {
            "needs_background": "light"
          }
        }
      ]
    }
  ]
}